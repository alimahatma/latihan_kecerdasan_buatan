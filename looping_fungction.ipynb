{
 "cells": [
  {
   "cell_type": "markdown",
   "metadata": {},
   "source": [
    "# PERULANGAN"
   ]
  },
  {
   "cell_type": "markdown",
   "metadata": {},
   "source": [
    "# While loop"
   ]
  },
  {
   "cell_type": "code",
   "execution_count": 1,
   "metadata": {},
   "outputs": [
    {
     "name": "stdout",
     "output_type": "stream",
     "text": [
      "Ak suka STMIK LOMBOK\n",
      "Ak suka STMIK LOMBOK\n",
      "Ak suka STMIK LOMBOK\n"
     ]
    }
   ],
   "source": [
    "hitung = 0\n",
    "while(hitung < 3):\n",
    "    hitung = hitung + 1\n",
    "    print(\"Ak suka STMIK LOMBOK\")"
   ]
  },
  {
   "cell_type": "code",
   "execution_count": 2,
   "metadata": {},
   "outputs": [
    {
     "name": "stdout",
     "output_type": "stream",
     "text": [
      "Jurusan Sistem Informasi \n",
      "Jurusan Sistem Informasi \n",
      "Jurusan Sistem Informasi \n",
      "Jurusan Teknik Informatika\n"
     ]
    }
   ],
   "source": [
    "#while loop dengan kombinasi else\n",
    "hitung = 0\n",
    "while (hitung < 3):\n",
    "    hitung = hitung + 1\n",
    "    print(\"Jurusan Sistem Informasi \")\n",
    "else:\n",
    "    print(\"Jurusan Teknik Informatika\")"
   ]
  },
  {
   "cell_type": "markdown",
   "metadata": {},
   "source": [
    "# for loop"
   ]
  },
  {
   "cell_type": "code",
   "execution_count": 3,
   "metadata": {},
   "outputs": [
    {
     "name": "stdout",
     "output_type": "stream",
     "text": [
      "1\n",
      "2\n",
      "3\n",
      "4\n",
      "5\n"
     ]
    }
   ],
   "source": [
    "angka = [1,2,3,4,5]\n",
    "for x in angka:\n",
    "    print(x)"
   ]
  },
  {
   "cell_type": "code",
   "execution_count": 5,
   "metadata": {},
   "outputs": [
    {
     "name": "stdout",
     "output_type": "stream",
     "text": [
      "Jurusan di STMIK Lombok adalah :  Sistem Informasi\n",
      "Jurusan di STMIK Lombok adalah :  Teknik Informatika\n",
      "Jurusan di STMIK Lombok adalah :  Bisnis Digital\n"
     ]
    }
   ],
   "source": [
    "prodi = [\"Sistem Informasi\",\"Teknik Informatika\",\"Bisnis Digital\"]\n",
    "for jurusan in prodi:\n",
    "    print(\"Jurusan di STMIK Lombok adalah : \", jurusan)"
   ]
  },
  {
   "cell_type": "markdown",
   "metadata": {},
   "source": [
    "# Nested loop"
   ]
  },
  {
   "cell_type": "code",
   "execution_count": 12,
   "metadata": {},
   "outputs": [
    {
     "name": "stdout",
     "output_type": "stream",
     "text": [
      "Mahidin, Mengambil Jurusan :  Data Mining\n",
      "Mahidin, Mengambil Jurusan :  Kecerdasan Buatan\n",
      "Mahidin, Mengambil Jurusan :  Pemerograman Berorientasi Objek\n",
      "Saikin Mengambil Jurusan :  Data Mining\n",
      "Saikin Mengambil Jurusan :  Kecerdasan Buatan\n",
      "Saikin Mengambil Jurusan :  Pemerograman Berorientasi Objek\n",
      "Ali Mengambil Jurusan :  Data Mining\n",
      "Ali Mengambil Jurusan :  Kecerdasan Buatan\n",
      "Ali Mengambil Jurusan :  Pemerograman Berorientasi Objek\n"
     ]
    }
   ],
   "source": [
    "Mahasiswa = [\"Mahidin,\",\"Saikin\",\"Ali\"]\n",
    "MataKuliah = [\"Data Mining\",\"Kecerdasan Buatan\",\"Pemerograman Berorientasi Objek\"]\n",
    "\n",
    "for mhs in Mahasiswa:\n",
    "    for makul in MataKuliah:\n",
    "        print(mhs, \"Mengambil Jurusan : \", makul)"
   ]
  },
  {
   "cell_type": "markdown",
   "metadata": {},
   "source": [
    "# FUNGSI (FUNCTION)"
   ]
  },
  {
   "cell_type": "code",
   "execution_count": 14,
   "metadata": {},
   "outputs": [
    {
     "name": "stdout",
     "output_type": "stream",
     "text": [
      "Hello ini adalah fungsi menampilkan text\n"
     ]
    }
   ],
   "source": [
    "def my_function():\n",
    "    print(\"Hello ini adalah fungsi menampilkan text\")\n",
    "    \n",
    "my_function()"
   ]
  },
  {
   "cell_type": "markdown",
   "metadata": {},
   "source": [
    "# membuat fungsi yang berisi perintah perulangan"
   ]
  },
  {
   "cell_type": "code",
   "execution_count": 1,
   "metadata": {},
   "outputs": [
    {
     "name": "stdout",
     "output_type": "stream",
     "text": [
      "Sistem Informasi\n",
      "Teknik Informatika\n",
      "Bisnis Digital\n"
     ]
    }
   ],
   "source": [
    "def fungsi_loop(jurusan):\n",
    "    for x in jurusan:\n",
    "        print(x)\n",
    "\n",
    "jurusan = [\"Sistem Informasi\", \"Teknik Informatika\", \"Bisnis Digital\"]\n",
    "\n",
    "\n",
    "fungsi_loop(jurusan)"
   ]
  },
  {
   "cell_type": "code",
   "execution_count": 3,
   "metadata": {},
   "outputs": [
    {
     "name": "stdout",
     "output_type": "stream",
     "text": [
      "Hasil Penjumlahan  50\n",
      "Hasil Penjumlahan  5\n"
     ]
    }
   ],
   "source": [
    "def penjumlahan (x, y):\n",
    "    return x + y\n",
    "\n",
    "def pengurangan(x, y):\n",
    "    return x - y\n",
    "print(\"Hasil Penjumlahan \", penjumlahan(20, 30))\n",
    "print(\"Hasil Penjumlahan \", pengurangan(15, 10))"
   ]
  },
  {
   "cell_type": "code",
   "execution_count": null,
   "metadata": {},
   "outputs": [],
   "source": []
  }
 ],
 "metadata": {
  "kernelspec": {
   "display_name": "Python 3",
   "language": "python",
   "name": "python3"
  },
  "language_info": {
   "codemirror_mode": {
    "name": "ipython",
    "version": 3
   },
   "file_extension": ".py",
   "mimetype": "text/x-python",
   "name": "python",
   "nbconvert_exporter": "python",
   "pygments_lexer": "ipython3",
   "version": "3.8.5"
  }
 },
 "nbformat": 4,
 "nbformat_minor": 4
}
