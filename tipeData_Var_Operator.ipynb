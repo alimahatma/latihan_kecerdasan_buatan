{
 "cells": [
  {
   "cell_type": "code",
   "execution_count": 37,
   "metadata": {},
   "outputs": [
    {
     "name": "stdout",
     "output_type": "stream",
     "text": [
      "80\n",
      "25\n",
      "Subsidi\n"
     ]
    }
   ],
   "source": [
    "panjang = 80 #tipe data integer\n",
    "lebar = 25 # tipe data float\n",
    "nama_bangunan = \"Subsidi\" #tipe data string\n",
    "\n",
    "print(panjang)\n",
    "print(lebar)\n",
    "print(nama_bangunan)\n"
   ]
  },
  {
   "cell_type": "code",
   "execution_count": 1,
   "metadata": {},
   "outputs": [
    {
     "name": "stdout",
     "output_type": "stream",
     "text": [
      "True\n"
     ]
    }
   ],
   "source": [
    "print(True)"
   ]
  },
  {
   "cell_type": "code",
   "execution_count": 5,
   "metadata": {},
   "outputs": [
    {
     "data": {
      "text/plain": [
       "bool"
      ]
     },
     "execution_count": 5,
     "metadata": {},
     "output_type": "execute_result"
    }
   ],
   "source": [
    "a = True\n",
    "#mengecek tipe data \n",
    "type(a)"
   ]
  },
  {
   "cell_type": "code",
   "execution_count": 10,
   "metadata": {},
   "outputs": [
    {
     "name": "stdout",
     "output_type": "stream",
     "text": [
      "x adalah Genap\n"
     ]
    }
   ],
   "source": [
    "x = 4\n",
    "if x % 2 == 0:\n",
    "    print(\"x adalah Genap\")"
   ]
  },
  {
   "cell_type": "code",
   "execution_count": 35,
   "metadata": {},
   "outputs": [
    {
     "name": "stdout",
     "output_type": "stream",
     "text": [
      "Type data x <class 'str'>\n",
      "Type data x <class 'str'>\n"
     ]
    }
   ],
   "source": [
    "x = 'Hello STMIK Lombok'\n",
    "y = 'Hello Kampusku'\n",
    "\n",
    "print(\"Type data x\", type(x))\n",
    "print(\"Type data x\", type(y))"
   ]
  },
  {
   "cell_type": "code",
   "execution_count": 13,
   "metadata": {},
   "outputs": [
    {
     "name": "stdout",
     "output_type": "stream",
     "text": [
      "Jenis Tipe Data x adalah :  <class 'int'>\n",
      "Jenis Tipe Data y adalah :  <class 'float'>\n"
     ]
    }
   ],
   "source": [
    "nilai_x = 45\n",
    "nilai_y = 52.056788\n",
    "print(\"Jenis Tipe Data x adalah : \", type(nilai_x))\n",
    "print(\"Jenis Tipe Data y adalah : \", type(nilai_y))"
   ]
  },
  {
   "cell_type": "code",
   "execution_count": 17,
   "metadata": {},
   "outputs": [
    {
     "name": "stdout",
     "output_type": "stream",
     "text": [
      "Jenis Tipe Data variabel angka adalah :  <class 'list'>\n",
      "Jenis Tipe Data variabel buah adalah :  <class 'tuple'>\n"
     ]
    }
   ],
   "source": [
    "angka = [1, 2, 3, 4, 5]\n",
    "buah = (\"Apel\",\"Jeruk\",\"Melon\")\n",
    "print(\"Jenis Tipe Data variabel angka adalah : \", type(angka))\n",
    "print(\"Jenis Tipe Data variabel buah adalah : \", type(buah))"
   ]
  },
  {
   "cell_type": "code",
   "execution_count": 1,
   "metadata": {},
   "outputs": [
    {
     "name": "stdout",
     "output_type": "stream",
     "text": [
      "Jenis tipe data variabel nama_dosen  :  <class 'dict'>\n"
     ]
    }
   ],
   "source": [
    "nama_dosen = {1001:'Saikin', 1002:'Ali',1003:'Wafia'} \n",
    "#cek tipe data\n",
    "print(\"Jenis tipe data variabel nama_dosen  : \", type(nama_dosen))\n",
    "\n"
   ]
  },
  {
   "cell_type": "code",
   "execution_count": 3,
   "metadata": {},
   "outputs": [
    {
     "name": "stdout",
     "output_type": "stream",
     "text": [
      "Nama Dosen dengan kode adalah :  Saikin\n"
     ]
    }
   ],
   "source": [
    "#print(\"Daftar Nama Dosen\", nama_dosen)\n",
    "print(\"Nama Dosen dengan kode adalah : \",nama_dosen[1001])"
   ]
  },
  {
   "cell_type": "code",
   "execution_count": 4,
   "metadata": {},
   "outputs": [
    {
     "name": "stdout",
     "output_type": "stream",
     "text": [
      "Inputkan nilai a: 45\n",
      "Inputkan nilai b: 72\n",
      "Hasil 45 + 72 = 117\n",
      "Hasil 45 - 72 = -27\n",
      "Hasil 45 * 72 = 3240\n"
     ]
    }
   ],
   "source": [
    "# Ambil input untuk mengisi nilai\n",
    "a = int(input(\"Inputkan nilai a: \"))\n",
    "b = int(input(\"Inputkan nilai b: \"))\n",
    "\n",
    "# Menggunakan operator penjumlahan\n",
    "c = a + b\n",
    "print (\"Hasil %d + %d = %d\" % (a,b,c))\n",
    "\n",
    "# Operator Pengurangan\n",
    "c = a - b\n",
    "print (\"Hasil %d - %d = %d\" % (a,b,c))\n",
    "\n",
    "# Operator Perkalian\n",
    "c = (a * b)\n",
    "print (\"Hasil %d * %d = %d\" % (a, b, c))\n"
   ]
  },
  {
   "cell_type": "code",
   "execution_count": 109,
   "metadata": {},
   "outputs": [
    {
     "name": "stdout",
     "output_type": "stream",
     "text": [
      "Inputkan nilai x: 10\n",
      "Nilai x = 10\n",
      "x = 11 \n"
     ]
    }
   ],
   "source": [
    "#Menambahkan nilai x dengan operator penugasan\n",
    "x = int(input(\"Inputkan nilai x: \"))\n",
    "print (\"Nilai x = %d\" % x)\n",
    "\n",
    "x += 1\n",
    "print(\"x = %d \" % x)"
   ]
  },
  {
   "cell_type": "code",
   "execution_count": null,
   "metadata": {},
   "outputs": [],
   "source": []
  },
  {
   "cell_type": "code",
   "execution_count": null,
   "metadata": {},
   "outputs": [],
   "source": []
  }
 ],
 "metadata": {
  "kernelspec": {
   "display_name": "Python 3",
   "language": "python",
   "name": "python3"
  },
  "language_info": {
   "codemirror_mode": {
    "name": "ipython",
    "version": 3
   },
   "file_extension": ".py",
   "mimetype": "text/x-python",
   "name": "python",
   "nbconvert_exporter": "python",
   "pygments_lexer": "ipython3",
   "version": "3.8.5"
  }
 },
 "nbformat": 4,
 "nbformat_minor": 4
}
